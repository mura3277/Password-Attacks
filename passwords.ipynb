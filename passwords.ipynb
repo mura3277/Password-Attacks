{
 "cells": [
  {
   "cell_type": "markdown",
   "metadata": {},
   "source": [
    "Common imports and global variables for all tasks"
   ]
  },
  {
   "cell_type": "code",
   "execution_count": 86,
   "metadata": {},
   "outputs": [],
   "source": [
    "import hashlib, time\n",
    "\n",
    "#Target hashes to find\n",
    "targets = []\n",
    "#Dictionary to store the already computed sha256 hash objects\n",
    "previous_computed_hashes = {}\n",
    "#Dictionary to store the found passwords\n",
    "passwords = {}"
   ]
  },
  {
   "cell_type": "markdown",
   "metadata": {},
   "source": [
    "Common functions for all tasks"
   ]
  },
  {
   "cell_type": "code",
   "execution_count": 87,
   "metadata": {},
   "outputs": [],
   "source": [
    "#Check if the hash is in our target list, and if so, add it to the password dictionary with the corresponding plain-text input\n",
    "def check_hash(targets, new_hash, s):\n",
    "    hash = new_hash.hexdigest()\n",
    "    if hash in targets:\n",
    "        passwords[hash] = s\n",
    "\n",
    "#Iterate over all possible characters using shortlex ordering\n",
    "def iterate_all_inputs(targets, valid_chars, cur_len, max_len):\n",
    "    #If we recurse down to a cur_len of 0, then the prev_result for the parent function call should be empty\n",
    "    if cur_len == 0:\n",
    "        return ['']\n",
    "\n",
    "    result = []\n",
    "    #Recirsevely call iterate_all_inputs, decrementing cur_len each time until we get to 0, appending the result to a list\n",
    "    for prev_result in iterate_all_inputs(targets, valid_chars, cur_len - 1, max_len):\n",
    "        #Nested loop to iterate through every char in our valid_chars list\n",
    "        for cur_char in valid_chars:\n",
    "            #If the prev_result already ends with the max len of cur_char, skip it\n",
    "            if not prev_result.endswith(cur_char * max_len):\n",
    "                #Build the result string with the previous recursion and cur_char and append it to our result list\n",
    "                s = prev_result + cur_char\n",
    "                result.append(s)\n",
    "                \n",
    "                #Check the current string s against the target hashes\n",
    "                new_hash = build_hash(s)\n",
    "\n",
    "                #Check if the hash is valid\n",
    "                check_hash(targets, new_hash, s)\n",
    "\n",
    "                #If all passwords found, break early and do not check for longer passwords\n",
    "                if len(passwords) == len(targets):\n",
    "                    return result\n",
    "    return result\n",
    "\n",
    "#Find x, which is the input s shortened by 1 character by each iteration so we can query an existing hash object\n",
    "def find_prev_hash_input(s):\n",
    "    iteration_threshold = 0\n",
    "    for i in range(1, len(s) - iteration_threshold):\n",
    "        x = s[:-i]\n",
    "        if x in previous_computed_hashes:\n",
    "            return x\n",
    "\n",
    "#Function to check the current word in the dictionary against the list of targets and construct the new hash object either from scratch or piggy-backing from previously generated hash objects\n",
    "def build_hash(s):\n",
    "    new_hash = None\n",
    "    \n",
    "    #Get a previous hash input, if it exists\n",
    "    x = find_prev_hash_input(s)\n",
    "    #If no previous hash was found, create one from scratch\n",
    "    if x == None:\n",
    "        new_hash = hashlib.sha256(s.encode())\n",
    "    else:\n",
    "        #print(x + \" - \" + s)\n",
    "        prev = previous_computed_hashes[x]\n",
    "        #Make a copy as to not mutate existing dictionary entries\n",
    "        new_hash = prev.copy()\n",
    "\n",
    "        #Update the value of the hash for s by only selecting the \"new\" characters that are in addition to the value of x\n",
    "        new_hash.update(s[len(s) - (len(s) - len(x)):].encode())\n",
    "\n",
    "    #We should now have a starting hash object, either computed from scratch or starting from a previous chunk of input s\n",
    "    #Finally insert this new hash into the dictonary for the next iteration\n",
    "    previous_computed_hashes[s] = new_hash\n",
    "\n",
    "    return new_hash"
   ]
  },
  {
   "cell_type": "markdown",
   "metadata": {},
   "source": [
    "Code for Task 1"
   ]
  },
  {
   "cell_type": "code",
   "execution_count": 88,
   "metadata": {},
   "outputs": [
    {
     "name": "stdout",
     "output_type": "stream",
     "text": [
      "FOUND ALL PASSWORDS\n",
      "z - 594e519ae499312b29433b7dd8a97ff068defcba9755b6d5d00e84c524d67b06\n",
      "1m - ade5880f369fd9765fb6cffdf67b5d4dfb2cf650a49c848a0ce7be1c10e80b23\n",
      "999 - 83cf8b609de60036a8277bd0e96135751bbc07eb234256d4b65b893360651bf2\n",
      "admn - 0d335a3bea76dac4e3926d91c52d5bdd716bac2b16db8caf3fb6b7a58cbd92a7\n"
     ]
    }
   ],
   "source": [
    "#Reset globals for next task\n",
    "targets = [\n",
    "    '594e519ae499312b29433b7dd8a97ff068defcba9755b6d5d00e84c524d67b06',\n",
    "    'ade5880f369fd9765fb6cffdf67b5d4dfb2cf650a49c848a0ce7be1c10e80b23',\n",
    "    '83cf8b609de60036a8277bd0e96135751bbc07eb234256d4b65b893360651bf2',\n",
    "    '0d335a3bea76dac4e3926d91c52d5bdd716bac2b16db8caf3fb6b7a58cbd92a7'\n",
    "]\n",
    "passwords = {}\n",
    "previous_computed_hashes = {}\n",
    "\n",
    "def task1(targets, size):\n",
    "    #Build list of valud input characters for the algorithm to check against\n",
    "    valid_chars = [\n",
    "        'a','b','c','d','e','f','g','h','i','j','k','l','m','n','o','p','q','r',\n",
    "        's','t','u','v','w','x','y','z','0','1','2','3','4','5','6','7','8','9'\n",
    "    ]\n",
    "    \n",
    "    #Call the recursive iteration function to check every permutation of possible input characters, given targets and a max size\n",
    "    iterate_all_inputs(targets, valid_chars, size, size)\n",
    "    \n",
    "    #If all passwords found, print the success\n",
    "    if len(passwords) == len(targets):\n",
    "        print(\"FOUND ALL PASSWORDS\")\n",
    "\n",
    "    #Return the list of found passwords\n",
    "    return passwords\n",
    "\n",
    "task1(targets, 4)\n",
    "for k, v in passwords.items():\n",
    "    print(v + \" - \" + k)"
   ]
  },
  {
   "cell_type": "markdown",
   "metadata": {},
   "source": [
    "Code for Task 2"
   ]
  },
  {
   "cell_type": "code",
   "execution_count": 89,
   "metadata": {},
   "outputs": [
    {
     "name": "stdout",
     "output_type": "stream",
     "text": [
      "FOUND ALL PASSWORDS\n",
      "66666 - 1a7648bc484b3d9ed9e2226d223a6193d64e5e1fcacd97868adec665fe12b924\n",
      "admin - 8c6976e5b5410415bde908bd4dee15dfb167a9c873fc4bb8a81f6f2ab448a918\n",
      "admin002 - 48054a90032bf1348452fd74f3500ef8d2318d9b5582b07449b3b59db841eecd\n",
      "amm1n1str@t0r2010 - 09537eae89936399905661760584b19f6ff3af4bb807cee0bb663f64b07eea8e\n",
      "P@Ssw0rd~ - e7798dc61be73b717402d76cbfaaef41c36c85c027a59abd74abbc8c8288bd4f\n",
      "Password123* - 0f42bcbeedf89160a6cf7ccafe68080f2aafb73b3ef057df6b5e22f1294d0a10\n",
      "Q1w2e3r4@ - 13989fe9c124d4dfca4e2661dcf8449f49a76fb69f9725612a130622ff3f9bfb\n",
      "Qwertyuiop - d780c9776eb7d602c805af9ed7aa78225b36af0decb6be51045dcbfa661594a3\n",
      "R00t - d2d03c10a4f2c361dbeff74dab0019264e37336f9ef04831943d0f07c0ad52c7\n",
      "Winner! - cbb05a10a2fc5cc96ce5da00a12acc54f594eadb85363de665f3e5dcb81d0e51\n"
     ]
    }
   ],
   "source": [
    "#Reset globals for next task\n",
    "targets = [\n",
    "    '1a7648bc484b3d9ed9e2226d223a6193d64e5e1fcacd97868adec665fe12b924',\n",
    "    '8c6976e5b5410415bde908bd4dee15dfb167a9c873fc4bb8a81f6f2ab448a918',\n",
    "    '48054a90032bf1348452fd74f3500ef8d2318d9b5582b07449b3b59db841eecd',\n",
    "    '09537eae89936399905661760584b19f6ff3af4bb807cee0bb663f64b07eea8e',\n",
    "    'e7798dc61be73b717402d76cbfaaef41c36c85c027a59abd74abbc8c8288bd4f',\n",
    "    '0f42bcbeedf89160a6cf7ccafe68080f2aafb73b3ef057df6b5e22f1294d0a10',\n",
    "    '13989fe9c124d4dfca4e2661dcf8449f49a76fb69f9725612a130622ff3f9bfb',\n",
    "    'd780c9776eb7d602c805af9ed7aa78225b36af0decb6be51045dcbfa661594a3',\n",
    "    'd2d03c10a4f2c361dbeff74dab0019264e37336f9ef04831943d0f07c0ad52c7',\n",
    "    'cbb05a10a2fc5cc96ce5da00a12acc54f594eadb85363de665f3e5dcb81d0e51'\n",
    "]\n",
    "passwords = {}\n",
    "previous_computed_hashes = {}\n",
    "\n",
    "#Main function to loop through all passwords in the dictionary\n",
    "def brute_force(targets):\n",
    "    with open(\"PasswordDictionary.txt\", \"r\") as f:\n",
    "        for line in f:\n",
    "            #Check the current string line against the target hashes\n",
    "            s = line.rstrip(\"\\n\")\n",
    "            new_hash = build_hash(s)\n",
    "\n",
    "            #Check if the hash is valid\n",
    "            check_hash(targets, new_hash, s)\n",
    "\n",
    "            #If all passwords found, break early and do not check for longer passwords\n",
    "            if len(passwords) == len(targets):\n",
    "                print(\"FOUND ALL PASSWORDS\")\n",
    "                break\n",
    "    return passwords\n",
    "\n",
    "brute_force(targets)\n",
    "for k, v in passwords.items():\n",
    "    print(v + \" - \" + k)"
   ]
  },
  {
   "cell_type": "markdown",
   "metadata": {},
   "source": [
    "Code for Task 3"
   ]
  },
  {
   "cell_type": "code",
   "execution_count": 90,
   "metadata": {},
   "outputs": [
    {
     "name": "stdout",
     "output_type": "stream",
     "text": [
      "FOUND ALL PASSWORDS\n",
      "Windows8 - 59c05d8d7b6d29279975141f7329cd77a5dc6942b036f9dfd30cbcb52c320cb4\n",
      "Windowsserver2008 - c93802a2273a13c2b8378f98dda9f166783cbfce508aeaf570ad0b19a906b4d2\n",
      "Windowsserver2008r2 - e6a9713791c2ffeddbf6c6c395add47e1fc02ae1fa47febbbdfb694ed688ba61\n",
      "Winner!@#00 - 915edb4d39ab6d260e3fb7269f5d9f8cfba3fdc998415298af3e6eb94a82e43e\n",
      "Winner!@#11 - 5ddce1dc316e7914ab6af64ef7c00d8b603fac32381db963d9359c3371a84b3a\n",
      "Winner!@#22 - 7e3b02bacd934245aa0cb3ea4d2b2f993a8681a650e38a63175374c28c4a7d0d\n",
      "Winter - d3136c0cb931acc938de13ed45926eb8764f9ea64af31be479be157480fd3014\n",
      "Wizard - 3a9053a077383d11f5963ef0c66b38c7eb8331cdb03bbdcc0e5055307f67331b\n",
      "Wolverine1234 - e6ec51a2ef933920ac1e6d3d8ba6ffac77fe94bfb79518b03cd9b94a14e97d3e\n",
      "Wordpass - fbecd00c62b01135f9e588883e80f2710a354c0eb73a33a2c5ab5602cc85f6ad\n"
     ]
    }
   ],
   "source": [
    "#Reset globals for next task\n",
    "targets = [\n",
    "    ['915edb4d39ab6d260e3fb7269f5d9f8cfba3fdc998415298af3e6eb94a82e43e', '27fb57e9'],\n",
    "    ['5ddce1dc316e7914ab6af64ef7c00d8b603fac32381db963d9359c3371a84b3a', 'b7875b4b'],\n",
    "    ['7e3b02bacd934245aa0cb3ea4d2b2f993a8681a650e38a63175374c28c4a7d0d', 'ec13ab35'],\n",
    "    ['d3136c0cb931acc938de13ed45926eb8764f9ea64af31be479be157480fd3014', '29b49fce'],\n",
    "    ['3a9053a077383d11f5963ef0c66b38c7eb8331cdb03bbdcc0e5055307f67331b', 'acdabf8a'],\n",
    "    ['59c05d8d7b6d29279975141f7329cd77a5dc6942b036f9dfd30cbcb52c320cb4', '64afe39d'],\n",
    "    ['c93802a2273a13c2b8378f98dda9f166783cbfce508aeaf570ad0b19a906b4d2', 'f0919683'],\n",
    "    ['e6a9713791c2ffeddbf6c6c395add47e1fc02ae1fa47febbbdfb694ed688ba61', '081b2451'],\n",
    "    ['e6ec51a2ef933920ac1e6d3d8ba6ffac77fe94bfb79518b03cd9b94a14e97d3e', 'defb64a3'],\n",
    "    ['fbecd00c62b01135f9e588883e80f2710a354c0eb73a33a2c5ab5602cc85f6ad', '017bb5b7']\n",
    "]\n",
    "passwords = {}\n",
    "previous_computed_hashes = {}\n",
    "\n",
    "#Check if the hash is in our target list, and if so, add it to the password dictionary with the corresponding plain-text input\n",
    "def check_hash(targets, new_hash, s):\n",
    "    for t in targets:\n",
    "        salted_hash = new_hash.copy()\n",
    "        salted_hash.update(t[1].encode())\n",
    "        if salted_hash.hexdigest() == t[0]:\n",
    "            passwords[salted_hash.hexdigest()] = s\n",
    "            break\n",
    "\n",
    "brute_force(targets)\n",
    "for k, v in passwords.items():\n",
    "    print(v + \" - \" + k)"
   ]
  }
 ],
 "metadata": {
  "kernelspec": {
   "display_name": "Python 3.7.9 64-bit",
   "language": "python",
   "name": "python3"
  },
  "language_info": {
   "codemirror_mode": {
    "name": "ipython",
    "version": 3
   },
   "file_extension": ".py",
   "mimetype": "text/x-python",
   "name": "python",
   "nbconvert_exporter": "python",
   "pygments_lexer": "ipython3",
   "version": "3.7.9"
  },
  "orig_nbformat": 4,
  "vscode": {
   "interpreter": {
    "hash": "252189e587d1e2aeba4a06e91fa71896c7a7f6e22e918b9407c7cde4ef2d5985"
   }
  }
 },
 "nbformat": 4,
 "nbformat_minor": 2
}
